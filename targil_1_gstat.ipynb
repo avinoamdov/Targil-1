{
 "cells": [
  {
   "cell_type": "markdown",
   "metadata": {},
   "source": [
    "Avinoam Blum First Targil June 19'"
   ]
  },
  {
   "cell_type": "markdown",
   "metadata": {},
   "source": [
    "1. First task: Reading csv files, defining a df for each file"
   ]
  },
  {
   "cell_type": "code",
   "execution_count": 1,
   "metadata": {},
   "outputs": [],
   "source": [
    "import pandas as pd\n",
    "import numpy as np\n",
    "import warnings\n",
    "warnings.filterwarnings('ignore')\n",
    "Donations_sample=pd.read_csv(r'C:\\Users\\Owner\\GSTAT\\ex-lessons-2-3\\Donations_sample.csv')\n",
    "Donors=pd.read_csv(r'C:\\Users\\Owner\\GSTAT\\ex-lessons-2-3\\Donors.csv')\n",
    "Projects_sample=pd.read_csv(r'C:\\Users\\Owner\\GSTAT\\ex-lessons-2-3\\Projects_sample.csv')\n",
    "Resources_sample=pd.read_csv(r'C:\\Users\\Owner\\GSTAT\\ex-lessons-2-3\\Resources_sample.csv')\n",
    "Schools=pd.read_csv(r'C:\\Users\\Owner\\GSTAT\\ex-lessons-2-3\\Schools.csv')\n",
    "Teachers=pd.read_csv(r'C:\\Users\\Owner\\GSTAT\\ex-lessons-2-3\\Teachers.csv')"
   ]
  },
  {
   "cell_type": "markdown",
   "metadata": {},
   "source": [
    "2. Second task: Printing shape of each df"
   ]
  },
  {
   "cell_type": "code",
   "execution_count": 2,
   "metadata": {},
   "outputs": [
    {
     "name": "stdout",
     "output_type": "stream",
     "text": [
      "Shape of the Donations_sample dataframe is: (702978, 7)\n",
      "Shape of the Donors dataframe is (2122640, 5)\n",
      "Shape of the Projects_sample dataframe is: (55540, 18)\n",
      "Shape of the Resources_sample dataframe is: (361004, 5)\n",
      "Shape of the Schools dataframe is: (72993, 9)\n",
      "Shape of the Donations_sample dataframe is: (402900, 3)\n"
     ]
    }
   ],
   "source": [
    "print('Shape of the Donations_sample dataframe is:',Donations_sample.shape)\n",
    "print('Shape of the Donors dataframe is',Donors.shape)\n",
    "print('Shape of the Projects_sample dataframe is:',Projects_sample.shape)\n",
    "print('Shape of the Resources_sample dataframe is:',Resources_sample.shape)\n",
    "print('Shape of the Schools dataframe is:',Schools.shape)\n",
    "print('Shape of the Donations_sample dataframe is:',Teachers.shape)"
   ]
  },
  {
   "cell_type": "markdown",
   "metadata": {},
   "source": [
    "3. Third task: Creating a loop and printing variables which are of type int64"
   ]
  },
  {
   "cell_type": "code",
   "execution_count": 3,
   "metadata": {},
   "outputs": [
    {
     "name": "stdout",
     "output_type": "stream",
     "text": [
      "list_of_int_vars:\n",
      "Donor Cart Sequence\n",
      "\n",
      "Teacher Project Posted Sequence\n",
      "\n",
      "School Zip\n",
      "\n"
     ]
    }
   ],
   "source": [
    "import glob\n",
    "csv_files = glob.glob(r'C:\\Users\\Owner\\GSTAT\\ex-lessons-2-3\\*.csv')\n",
    "list_data = []\n",
    "for filename in csv_files:\n",
    "    data = pd.read_csv(filename)\n",
    "    a=data.select_dtypes(['int64']).columns\n",
    "    list_data.append(a)\n",
    "   \n",
    "print('list_of_int_vars:')\n",
    "\n",
    "for item in list_data:\n",
    "                   \n",
    "        print(*item) "
   ]
  },
  {
   "cell_type": "markdown",
   "metadata": {},
   "source": [
    "4. Fourth task: Find missing values for each df"
   ]
  },
  {
   "cell_type": "code",
   "execution_count": 4,
   "metadata": {},
   "outputs": [
    {
     "data": {
      "text/plain": [
       "Donation Received Date                 0\n",
       "Donor Cart Sequence                    0\n",
       "Donation Amount                        0\n",
       "Donation Included Optional Donation    0\n",
       "Donor ID                               0\n",
       "Donation ID                            0\n",
       "Project ID                             0\n",
       "dtype: int64"
      ]
     },
     "execution_count": 4,
     "metadata": {},
     "output_type": "execute_result"
    }
   ],
   "source": [
    "Donations_sample.isnull().sum(axis = 0).sort_values(ascending=False)"
   ]
  },
  {
   "cell_type": "code",
   "execution_count": 5,
   "metadata": {},
   "outputs": [
    {
     "data": {
      "text/plain": [
       "Donor City          213097\n",
       "Donor Zip           180060\n",
       "Donor Is Teacher         0\n",
       "Donor State              0\n",
       "Donor ID                 0\n",
       "dtype: int64"
      ]
     },
     "execution_count": 5,
     "metadata": {},
     "output_type": "execute_result"
    }
   ],
   "source": [
    "Donors.isnull().sum(axis = 0).sort_values(ascending=False)"
   ]
  },
  {
   "cell_type": "code",
   "execution_count": 6,
   "metadata": {},
   "outputs": [
    {
     "data": {
      "text/plain": [
       "Project Fully Funded Date           14316\n",
       "Project Resource Category               2\n",
       "Project Subject Subcategory Tree        1\n",
       "Project Subject Category Tree           1\n",
       "Project Title                           1\n",
       "Project Essay                           0\n",
       "School ID                               0\n",
       "Teacher ID                              0\n",
       "Teacher Project Posted Sequence         0\n",
       "Project Type                            0\n",
       "Project Need Statement                  0\n",
       "Project Short Description               0\n",
       "Project Current Status                  0\n",
       "Project Grade Level Category            0\n",
       "Project Cost                            0\n",
       "Project Posted Date                     0\n",
       "Project Expiration Date                 0\n",
       "Project ID                              0\n",
       "dtype: int64"
      ]
     },
     "execution_count": 6,
     "metadata": {},
     "output_type": "execute_result"
    }
   ],
   "source": [
    "Projects_sample.isnull().sum(axis = 0).sort_values(ascending=False)"
   ]
  },
  {
   "cell_type": "code",
   "execution_count": 7,
   "metadata": {},
   "outputs": [
    {
     "data": {
      "text/plain": [
       "Resource Vendor Name    4039\n",
       "Resource Unit Price     1259\n",
       "Resource Quantity       1257\n",
       "Resource Item Name        34\n",
       "Project ID                 0\n",
       "dtype: int64"
      ]
     },
     "execution_count": 7,
     "metadata": {},
     "output_type": "execute_result"
    }
   ],
   "source": [
    "Resources_sample.isnull().sum(axis = 0).sort_values(ascending=False)"
   ]
  },
  {
   "cell_type": "code",
   "execution_count": 8,
   "metadata": {},
   "outputs": [
    {
     "data": {
      "text/plain": [
       "School Percentage Free Lunch    1141\n",
       "School City                      227\n",
       "School County                      2\n",
       "School District                    0\n",
       "School Zip                         0\n",
       "School State                       0\n",
       "School Metro Type                  0\n",
       "School Name                        0\n",
       "School ID                          0\n",
       "dtype: int64"
      ]
     },
     "execution_count": 8,
     "metadata": {},
     "output_type": "execute_result"
    }
   ],
   "source": [
    "Schools.isnull().sum(axis = 0).sort_values(ascending=False)"
   ]
  },
  {
   "cell_type": "code",
   "execution_count": 9,
   "metadata": {},
   "outputs": [
    {
     "data": {
      "text/plain": [
       "Teacher Prefix                       28\n",
       "Teacher First Project Posted Date     0\n",
       "Teacher ID                            0\n",
       "dtype: int64"
      ]
     },
     "execution_count": 9,
     "metadata": {},
     "output_type": "execute_result"
    }
   ],
   "source": [
    "Teachers.isnull().sum(axis = 0).sort_values(ascending=False)"
   ]
  },
  {
   "cell_type": "markdown",
   "metadata": {},
   "source": [
    "5. Fifth task: Find in Projects the max value of Project cost"
   ]
  },
  {
   "cell_type": "code",
   "execution_count": 10,
   "metadata": {},
   "outputs": [
    {
     "data": {
      "text/plain": [
       "67664.72"
      ]
     },
     "execution_count": 10,
     "metadata": {},
     "output_type": "execute_result"
    }
   ],
   "source": [
    "Projects_sample['Project Cost'].max()"
   ]
  },
  {
   "cell_type": "markdown",
   "metadata": {},
   "source": [
    "6. Sixth task: Find in Projects the mean value of Project cost"
   ]
  },
  {
   "cell_type": "code",
   "execution_count": 11,
   "metadata": {},
   "outputs": [
    {
     "data": {
      "text/plain": [
       "744.5037855599566"
      ]
     },
     "execution_count": 11,
     "metadata": {},
     "output_type": "execute_result"
    }
   ],
   "source": [
    "Projects_sample['Project Cost'].mean()"
   ]
  },
  {
   "cell_type": "markdown",
   "metadata": {},
   "source": [
    "7. Seventh task: Find in Projects the average value of Project cost"
   ]
  },
  {
   "cell_type": "code",
   "execution_count": 12,
   "metadata": {},
   "outputs": [
    {
     "name": "stdout",
     "output_type": "stream",
     "text": [
      "515.985\n",
      "Is the median smaller than the mean? True\n"
     ]
    }
   ],
   "source": [
    "mea=Projects_sample['Project Cost'].mean() # average\n",
    "med=Projects_sample['Project Cost'].median() # median\n",
    "print(med)\n",
    "print('Is the median smaller than the mean?',med<mea)"
   ]
  },
  {
   "cell_type": "markdown",
   "metadata": {},
   "source": [
    "8. Eigth task: Find in Resources the 75th percentile value of Resource Quantity"
   ]
  },
  {
   "cell_type": "code",
   "execution_count": 13,
   "metadata": {},
   "outputs": [
    {
     "data": {
      "text/plain": [
       "2.0"
      ]
     },
     "execution_count": 13,
     "metadata": {},
     "output_type": "execute_result"
    }
   ],
   "source": [
    "Resources_sample['Resource Quantity'].quantile(0.75)"
   ]
  },
  {
   "cell_type": "markdown",
   "metadata": {},
   "source": [
    "9. Ninth task: Find in Schools the unique values of 'School Name'"
   ]
  },
  {
   "cell_type": "code",
   "execution_count": 14,
   "metadata": {},
   "outputs": [
    {
     "data": {
      "text/plain": [
       "56831"
      ]
     },
     "execution_count": 14,
     "metadata": {},
     "output_type": "execute_result"
    }
   ],
   "source": [
    "Schools['School Name'].nunique()"
   ]
  },
  {
   "cell_type": "markdown",
   "metadata": {},
   "source": [
    "10. Tenth task: Transform in Schools the variable 'School Percentage Free Lunch Name'  to float (remark-it was from the beginning float)"
   ]
  },
  {
   "cell_type": "code",
   "execution_count": 15,
   "metadata": {},
   "outputs": [],
   "source": [
    "Schools['School Percentage Free Lunch']=Schools['School Percentage Free Lunch'].astype(float)"
   ]
  },
  {
   "cell_type": "markdown",
   "metadata": {},
   "source": [
    "11. Eleventh task: merging all df"
   ]
  },
  {
   "cell_type": "code",
   "execution_count": 16,
   "metadata": {},
   "outputs": [],
   "source": [
    "data=pd.merge(pd.merge(pd.merge(pd.merge(Projects_sample , Donations_sample , on='Project ID') , Donors , on='Donor ID') , Schools , on='School ID') , Teachers , on='Teacher ID')"
   ]
  },
  {
   "cell_type": "markdown",
   "metadata": {},
   "source": [
    "12. Twelfth task: Shape of data"
   ]
  },
  {
   "cell_type": "code",
   "execution_count": 17,
   "metadata": {},
   "outputs": [
    {
     "data": {
      "text/plain": [
       "(34706, 38)"
      ]
     },
     "execution_count": 17,
     "metadata": {},
     "output_type": "execute_result"
    }
   ],
   "source": [
    "data.shape"
   ]
  },
  {
   "cell_type": "markdown",
   "metadata": {},
   "source": [
    "13. Thirteenth task: Creating s which groupbys School State','Donation Amount' and find average"
   ]
  },
  {
   "cell_type": "code",
   "execution_count": 18,
   "metadata": {},
   "outputs": [],
   "source": [
    "s=data.groupby(['School State','Donation Amount']).mean()"
   ]
  },
  {
   "cell_type": "markdown",
   "metadata": {},
   "source": [
    "14. Fourteenth task: sort_values(ascending = False).head(10) = shows the states with the average highest donations: As we can see Hawaii is placed first "
   ]
  },
  {
   "cell_type": "code",
   "execution_count": 19,
   "metadata": {},
   "outputs": [
    {
     "data": {
      "text/html": [
       "<div>\n",
       "<style scoped>\n",
       "    .dataframe tbody tr th:only-of-type {\n",
       "        vertical-align: middle;\n",
       "    }\n",
       "\n",
       "    .dataframe tbody tr th {\n",
       "        vertical-align: top;\n",
       "    }\n",
       "\n",
       "    .dataframe thead th {\n",
       "        text-align: right;\n",
       "    }\n",
       "</style>\n",
       "<table border=\"1\" class=\"dataframe\">\n",
       "  <thead>\n",
       "    <tr style=\"text-align: right;\">\n",
       "      <th></th>\n",
       "      <th></th>\n",
       "      <th>Teacher Project Posted Sequence</th>\n",
       "      <th>Project Cost</th>\n",
       "      <th>Donor Cart Sequence</th>\n",
       "      <th>School Percentage Free Lunch</th>\n",
       "      <th>School Zip</th>\n",
       "    </tr>\n",
       "    <tr>\n",
       "      <th>School State</th>\n",
       "      <th>Donation Amount</th>\n",
       "      <th></th>\n",
       "      <th></th>\n",
       "      <th></th>\n",
       "      <th></th>\n",
       "      <th></th>\n",
       "    </tr>\n",
       "  </thead>\n",
       "  <tbody>\n",
       "    <tr>\n",
       "      <th>Hawaii</th>\n",
       "      <th>9999.25</th>\n",
       "      <td>3.0</td>\n",
       "      <td>11763.82</td>\n",
       "      <td>3.0</td>\n",
       "      <td>36.0</td>\n",
       "      <td>96786.0</td>\n",
       "    </tr>\n",
       "    <tr>\n",
       "      <th>California</th>\n",
       "      <th>8161.80</th>\n",
       "      <td>4.0</td>\n",
       "      <td>9602.12</td>\n",
       "      <td>2.0</td>\n",
       "      <td>6.0</td>\n",
       "      <td>94960.0</td>\n",
       "    </tr>\n",
       "    <tr>\n",
       "      <th>Georgia</th>\n",
       "      <th>7831.05</th>\n",
       "      <td>2.0</td>\n",
       "      <td>9223.00</td>\n",
       "      <td>2.0</td>\n",
       "      <td>50.0</td>\n",
       "      <td>30328.0</td>\n",
       "    </tr>\n",
       "    <tr>\n",
       "      <th>Arizona</th>\n",
       "      <th>7812.01</th>\n",
       "      <td>1.0</td>\n",
       "      <td>7812.01</td>\n",
       "      <td>1.0</td>\n",
       "      <td>68.0</td>\n",
       "      <td>85201.0</td>\n",
       "    </tr>\n",
       "    <tr>\n",
       "      <th>Florida</th>\n",
       "      <th>7489.20</th>\n",
       "      <td>1.0</td>\n",
       "      <td>8820.82</td>\n",
       "      <td>1.0</td>\n",
       "      <td>65.0</td>\n",
       "      <td>32837.0</td>\n",
       "    </tr>\n",
       "    <tr>\n",
       "      <th>Massachusetts</th>\n",
       "      <th>7100.00</th>\n",
       "      <td>1.0</td>\n",
       "      <td>7353.39</td>\n",
       "      <td>1.0</td>\n",
       "      <td>72.0</td>\n",
       "      <td>1602.0</td>\n",
       "    </tr>\n",
       "    <tr>\n",
       "      <th rowspan=\"2\" valign=\"top\">California</th>\n",
       "      <th>7022.62</th>\n",
       "      <td>2.0</td>\n",
       "      <td>7022.62</td>\n",
       "      <td>1.0</td>\n",
       "      <td>40.0</td>\n",
       "      <td>94040.0</td>\n",
       "    </tr>\n",
       "    <tr>\n",
       "      <th>6145.17</th>\n",
       "      <td>1.0</td>\n",
       "      <td>7229.61</td>\n",
       "      <td>1.0</td>\n",
       "      <td>13.0</td>\n",
       "      <td>90720.0</td>\n",
       "    </tr>\n",
       "    <tr>\n",
       "      <th>Virginia</th>\n",
       "      <th>6099.18</th>\n",
       "      <td>1.0</td>\n",
       "      <td>6099.18</td>\n",
       "      <td>1.0</td>\n",
       "      <td>43.0</td>\n",
       "      <td>23229.0</td>\n",
       "    </tr>\n",
       "    <tr>\n",
       "      <th>California</th>\n",
       "      <th>5289.95</th>\n",
       "      <td>1.0</td>\n",
       "      <td>6223.47</td>\n",
       "      <td>1.0</td>\n",
       "      <td>13.0</td>\n",
       "      <td>90720.0</td>\n",
       "    </tr>\n",
       "  </tbody>\n",
       "</table>\n",
       "</div>"
      ],
      "text/plain": [
       "                               Teacher Project Posted Sequence  Project Cost  \\\n",
       "School State  Donation Amount                                                  \n",
       "Hawaii        9999.25                                      3.0      11763.82   \n",
       "California    8161.80                                      4.0       9602.12   \n",
       "Georgia       7831.05                                      2.0       9223.00   \n",
       "Arizona       7812.01                                      1.0       7812.01   \n",
       "Florida       7489.20                                      1.0       8820.82   \n",
       "Massachusetts 7100.00                                      1.0       7353.39   \n",
       "California    7022.62                                      2.0       7022.62   \n",
       "              6145.17                                      1.0       7229.61   \n",
       "Virginia      6099.18                                      1.0       6099.18   \n",
       "California    5289.95                                      1.0       6223.47   \n",
       "\n",
       "                               Donor Cart Sequence  \\\n",
       "School State  Donation Amount                        \n",
       "Hawaii        9999.25                          3.0   \n",
       "California    8161.80                          2.0   \n",
       "Georgia       7831.05                          2.0   \n",
       "Arizona       7812.01                          1.0   \n",
       "Florida       7489.20                          1.0   \n",
       "Massachusetts 7100.00                          1.0   \n",
       "California    7022.62                          1.0   \n",
       "              6145.17                          1.0   \n",
       "Virginia      6099.18                          1.0   \n",
       "California    5289.95                          1.0   \n",
       "\n",
       "                               School Percentage Free Lunch  School Zip  \n",
       "School State  Donation Amount                                            \n",
       "Hawaii        9999.25                                  36.0     96786.0  \n",
       "California    8161.80                                   6.0     94960.0  \n",
       "Georgia       7831.05                                  50.0     30328.0  \n",
       "Arizona       7812.01                                  68.0     85201.0  \n",
       "Florida       7489.20                                  65.0     32837.0  \n",
       "Massachusetts 7100.00                                  72.0      1602.0  \n",
       "California    7022.62                                  40.0     94040.0  \n",
       "              6145.17                                  13.0     90720.0  \n",
       "Virginia      6099.18                                  43.0     23229.0  \n",
       "California    5289.95                                  13.0     90720.0  "
      ]
     },
     "execution_count": 19,
     "metadata": {},
     "output_type": "execute_result"
    }
   ],
   "source": [
    "s.sort_values(by= 'Donation Amount',ascending = False).head(10)"
   ]
  },
  {
   "cell_type": "markdown",
   "metadata": {},
   "source": [
    "15. Fifteenth task: Graphs"
   ]
  },
  {
   "cell_type": "code",
   "execution_count": 21,
   "metadata": {},
   "outputs": [
    {
     "data": {
      "text/plain": [
       "Text(0, 0.5, 'States')"
      ]
     },
     "execution_count": 21,
     "metadata": {},
     "output_type": "execute_result"
    },
    {
     "data": {
      "image/png": "[encoded data removed]",
      "text/plain": [
       "<Figure size 1080x576 with 1 Axes>"
      ]
     },
     "metadata": {
      "needs_background": "light"
     },
     "output_type": "display_data"
    }
   ],
   "source": [
    "import matplotlib.pyplot as plt\n",
    "data.groupby(['School State','Donation Amount']).mean().sort_values(by= 'Donation Amount',ascending = False).head(10).plot(kind='bar', title = 'Top 10 States that gather donations more than average',figsize=(15,8)) #c- title = 'Top 10 States that gather donations more than average'\n",
    "plt.xlabel(\"Average Donations Per Project\") # a\n",
    "plt.ylabel(\"States\") # b"
   ]
  },
  {
   "cell_type": "code",
   "execution_count": null,
   "metadata": {},
   "outputs": [],
   "source": []
  }
 ],
 "metadata": {
  "kernelspec": {
   "display_name": "Python 3",
   "language": "python",
   "name": "python3"
  },
  "language_info": {
   "codemirror_mode": {
    "name": "ipython",
    "version": 3
   },
   "file_extension": ".py",
   "mimetype": "text/x-python",
   "name": "python",
   "nbconvert_exporter": "python",
   "pygments_lexer": "ipython3",
   "version": "3.7.1"
  }
 },
 "nbformat": 4,
 "nbformat_minor": 2
}
